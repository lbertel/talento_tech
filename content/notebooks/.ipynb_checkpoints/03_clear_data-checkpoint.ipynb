{
 "cells": [
  {
   "cell_type": "code",
   "execution_count": null,
   "id": "0b2cfe0d-e085-482c-83fa-949970ca00f6",
   "metadata": {},
   "outputs": [],
   "source": [
    "# import library\n",
    "import pandas as pd\n",
    "import os"
   ]
  },
  {
   "cell_type": "code",
   "execution_count": null,
   "id": "b6086d39-1ddb-4add-b50b-5a0ebba9bf08",
   "metadata": {},
   "outputs": [
    {
     "name": "stdout",
     "output_type": "stream",
     "text": [
      "data  docs  models  notebooks  reports\trequirements.txt\n"
     ]
    }
   ],
   "source": [
    "# set default directory\n",
    "os.chdir('./content')\n",
    "!ls"
   ]
  },
  {
   "cell_type": "code",
   "execution_count": 14,
   "id": "39b07c98-edc4-4091-9a67-ec9ed65df681",
   "metadata": {},
   "outputs": [],
   "source": [
    "# load raw file\n",
    "df_data_all_country = pd.read_csv('data/raw/data.csv')"
   ]
  },
  {
   "cell_type": "code",
   "execution_count": null,
   "id": "89b47ce0-6be9-41aa-b3af-54bc21380a02",
   "metadata": {},
   "outputs": [],
   "source": [
    "# print all data\n",
    "df_data_all_countryxndW66jRAt"
   ]
  },
  {
   "cell_type": "code",
   "execution_count": 41,
   "id": "dd2f429e-cd3a-4915-a28f-d9fd3bf119b6",
   "metadata": {},
   "outputs": [],
   "source": [
    "# select row with COUNTRY is equal Colombia\n",
    "df_data_colombia = df_data_all_country[df_data_all_country['COUNTRY'] == 'Colombia']"
   ]
  },
  {
   "cell_type": "code",
   "execution_count": 43,
   "id": "9f1408ed-cd2a-46a1-b8a9-f5b7dba390cd",
   "metadata": {},
   "outputs": [
    {
     "data": {
      "text/plain": [
       "3104"
      ]
     },
     "execution_count": 43,
     "metadata": {},
     "output_type": "execute_result"
    }
   ],
   "source": [
    "# print all record of Colombia\n",
    "df_data_colombia.head(10)\n",
    "\n",
    "# size dataframe\n",
    "len(df_data_colombia)"
   ]
  },
  {
   "cell_type": "code",
   "execution_count": 46,
   "id": "a12c4eda-abda-4509-8c9f-17ba03162bbd",
   "metadata": {},
   "outputs": [
    {
     "name": "stdout",
     "output_type": "stream",
     "text": [
      "Index(['COUNTRY', 'CODE_TIME', 'TIME', 'YEAR', 'MONTH', 'MONTH_NAME',\n",
      "       'PRODUCT', 'VALUE', 'DISPLAY_ORDER', 'yearToDate', 'previousYearToDate',\n",
      "       'share'],\n",
      "      dtype='object')\n",
      "Index(['YEAR', 'MONTH', 'PRODUCT', 'VALUE'], dtype='object')\n"
     ]
    }
   ],
   "source": [
    "# show columns after delete\n",
    "print(df_data_colombia.columns)\n",
    "\n",
    "# delete columns\n",
    "df_temp = df_data_colombia.drop(['COUNTRY', 'CODE_TIME', 'TIME', 'MONTH_NAME', 'DISPLAY_ORDER', 'yearToDate', 'previousYearToDate', 'share'], axis=1)\n",
    "\n",
    "# show columns before delete\n",
    "print(df_temp.columns)"
   ]
  },
  {
   "cell_type": "code",
   "execution_count": 47,
   "id": "624c0b1b-2b1b-4a34-90a8-34b3ec33ba89",
   "metadata": {},
   "outputs": [
    {
     "data": {
      "text/plain": [
       "3104"
      ]
     },
     "execution_count": 47,
     "metadata": {},
     "output_type": "execute_result"
    }
   ],
   "source": [
    "# delete row with null values\n",
    "df_without_null = df_temp.dropna(how='any')\n",
    "\n",
    "# size dataframe without null\n",
    "len(df_without_null)"
   ]
  },
  {
   "cell_type": "code",
   "execution_count": 49,
   "id": "110a7b90-8465-4134-9aa9-cb30577644ed",
   "metadata": {},
   "outputs": [
    {
     "data": {
      "text/plain": [
       "2706"
      ]
     },
     "execution_count": 49,
     "metadata": {},
     "output_type": "execute_result"
    }
   ],
   "source": [
    "# eliminate row with PRODUCT containt Total\n",
    "filter_total = df_without_null[~df_without_null['PRODUCT'].str.contains('Total', case=False, na=False)]\n",
    "\n",
    "len(filter_total)"
   ]
  },
  {
   "cell_type": "code",
   "execution_count": 50,
   "id": "7d70c184-e513-4c67-b478-85c94fdea206",
   "metadata": {},
   "outputs": [],
   "source": [
    "# save the new dataframe\n",
    "filter_total.to_csv('data/processed/colombia_data.csv', index=False)"
   ]
  },
  {
   "cell_type": "code",
   "execution_count": 53,
   "id": "10aa76ec-ec65-4c11-9c45-dc6a470ddf9a",
   "metadata": {},
   "outputs": [
    {
     "name": "stdout",
     "output_type": "stream",
     "text": [
      "<class 'pandas.core.frame.DataFrame'>\n",
      "Index: 2706 entries, 46557 to 212133\n",
      "Data columns (total 4 columns):\n",
      " #   Column   Non-Null Count  Dtype  \n",
      "---  ------   --------------  -----  \n",
      " 0   YEAR     2706 non-null   int64  \n",
      " 1   MONTH    2706 non-null   int64  \n",
      " 2   PRODUCT  2706 non-null   object \n",
      " 3   VALUE    2706 non-null   float64\n",
      "dtypes: float64(1), int64(2), object(1)\n",
      "memory usage: 105.7+ KB\n"
     ]
    }
   ],
   "source": [
    "# information dataframe\n",
    "filter_total.info()"
   ]
  },
  {
   "cell_type": "code",
   "execution_count": 54,
   "id": "854aa55e-3b84-4f82-ae3f-1de4105322d7",
   "metadata": {},
   "outputs": [
    {
     "data": {
      "text/plain": [
       "(2706, 4)"
      ]
     },
     "execution_count": 54,
     "metadata": {},
     "output_type": "execute_result"
    }
   ],
   "source": [
    "# dimension of dataframe\n",
    "filter_total.shape"
   ]
  },
  {
   "cell_type": "code",
   "execution_count": 55,
   "id": "34ab7fbb-a2a7-4343-bee9-a30119718a3d",
   "metadata": {},
   "outputs": [
    {
     "data": {
      "text/plain": [
       "YEAR       0\n",
       "MONTH      0\n",
       "PRODUCT    0\n",
       "VALUE      0\n",
       "dtype: int64"
      ]
     },
     "execution_count": 55,
     "metadata": {},
     "output_type": "execute_result"
    }
   ],
   "source": [
    "# missing values\n",
    "filter_total.isnull().sum(axis=0)"
   ]
  },
  {
   "cell_type": "code",
   "execution_count": null,
   "id": "67a1a156-705e-4964-a527-4387cd65b915",
   "metadata": {},
   "outputs": [],
   "source": []
  }
 ],
 "metadata": {
  "kernelspec": {
   "display_name": "Python 3 (ipykernel)",
   "language": "python",
   "name": "python3"
  },
  "language_info": {
   "codemirror_mode": {
    "name": "ipython",
    "version": 3
   },
   "file_extension": ".py",
   "mimetype": "text/x-python",
   "name": "python",
   "nbconvert_exporter": "python",
   "pygments_lexer": "ipython3",
   "version": "3.12.3"
  }
 },
 "nbformat": 4,
 "nbformat_minor": 5
}
