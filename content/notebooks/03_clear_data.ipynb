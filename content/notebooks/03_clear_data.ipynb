{
 "cells": [
  {
   "cell_type": "code",
   "execution_count": 4,
   "id": "0b2cfe0d-e085-482c-83fa-949970ca00f6",
   "metadata": {},
   "outputs": [],
   "source": [
    "# import library\n",
    "import pandas as pd\n",
    "import os"
   ]
  },
  {
   "cell_type": "code",
   "execution_count": 6,
   "id": "b6086d39-1ddb-4add-b50b-5a0ebba9bf08",
   "metadata": {},
   "outputs": [
    {
     "name": "stdout",
     "output_type": "stream",
     "text": [
      "data  docs  models  notebooks  reports\trequirements.txt\n"
     ]
    }
   ],
   "source": [
    "# set default directory\n",
    "os.chdir('/home/lbertel/code/talento_tech/content')\n",
    "!ls"
   ]
  },
  {
   "cell_type": "code",
   "execution_count": 7,
   "id": "39b07c98-edc4-4091-9a67-ec9ed65df681",
   "metadata": {},
   "outputs": [],
   "source": [
    "# load raw file\n",
    "df_data_all_country = pd.read_csv('data/raw/data.csv')"
   ]
  },
  {
   "cell_type": "code",
   "execution_count": 8,
   "id": "89b47ce0-6be9-41aa-b3af-54bc21380a02",
   "metadata": {},
   "outputs": [
    {
     "name": "stdout",
     "output_type": "stream",
     "text": [
      "<class 'pandas.core.frame.DataFrame'>\n",
      "RangeIndex: 213138 entries, 0 to 213137\n",
      "Data columns (total 12 columns):\n",
      " #   Column              Non-Null Count   Dtype  \n",
      "---  ------              --------------   -----  \n",
      " 0   COUNTRY             213138 non-null  object \n",
      " 1   CODE_TIME           213138 non-null  object \n",
      " 2   TIME                213138 non-null  object \n",
      " 3   YEAR                213138 non-null  int64  \n",
      " 4   MONTH               213138 non-null  int64  \n",
      " 5   MONTH_NAME          213138 non-null  object \n",
      " 6   PRODUCT             213138 non-null  object \n",
      " 7   VALUE               213138 non-null  float64\n",
      " 8   DISPLAY_ORDER       213138 non-null  int64  \n",
      " 9   yearToDate          213138 non-null  float64\n",
      " 10  previousYearToDate  196016 non-null  float64\n",
      " 11  share               213138 non-null  float64\n",
      "dtypes: float64(4), int64(3), object(5)\n",
      "memory usage: 19.5+ MB\n"
     ]
    }
   ],
   "source": [
    "# print all data\n",
    "df_data_all_country.info()"
   ]
  },
  {
   "cell_type": "code",
   "execution_count": 10,
   "id": "dd2f429e-cd3a-4915-a28f-d9fd3bf119b6",
   "metadata": {},
   "outputs": [],
   "source": [
    "# select row with COUNTRY is equal Colombia\n",
    "df_data_colombia = df_data_all_country[df_data_all_country['COUNTRY'] == 'Colombia']"
   ]
  },
  {
   "cell_type": "code",
   "execution_count": 11,
   "id": "9f1408ed-cd2a-46a1-b8a9-f5b7dba390cd",
   "metadata": {},
   "outputs": [
    {
     "data": {
      "text/plain": [
       "3104"
      ]
     },
     "execution_count": 11,
     "metadata": {},
     "output_type": "execute_result"
    }
   ],
   "source": [
    "# print first record of Colombia\n",
    "df_data_colombia.head(10)\n",
    "\n",
    "# size dataframe\n",
    "len(df_data_colombia)"
   ]
  },
  {
   "cell_type": "code",
   "execution_count": 15,
   "id": "a12c4eda-abda-4509-8c9f-17ba03162bbd",
   "metadata": {},
   "outputs": [
    {
     "name": "stdout",
     "output_type": "stream",
     "text": [
      "Index(['COUNTRY', 'CODE_TIME', 'TIME', 'YEAR', 'MONTH', 'MONTH_NAME',\n",
      "       'PRODUCT', 'VALUE', 'DISPLAY_ORDER', 'yearToDate', 'previousYearToDate',\n",
      "       'share'],\n",
      "      dtype='object')\n",
      "Index(['YEAR', 'MONTH', 'PRODUCT', 'VALUE'], dtype='object')\n",
      "\n",
      "---------------------------------\n",
      "\n",
      "<class 'pandas.core.frame.DataFrame'>\n",
      "Index: 3104 entries, 46557 to 212133\n",
      "Data columns (total 4 columns):\n",
      " #   Column   Non-Null Count  Dtype  \n",
      "---  ------   --------------  -----  \n",
      " 0   YEAR     3104 non-null   int64  \n",
      " 1   MONTH    3104 non-null   int64  \n",
      " 2   PRODUCT  3104 non-null   object \n",
      " 3   VALUE    3104 non-null   float64\n",
      "dtypes: float64(1), int64(2), object(1)\n",
      "memory usage: 121.2+ KB\n"
     ]
    }
   ],
   "source": [
    "# show columns after delete\n",
    "print(df_data_colombia.columns)\n",
    "\n",
    "# delete columns\n",
    "df_temp = df_data_colombia.drop(['COUNTRY', 'CODE_TIME', 'TIME', 'MONTH_NAME', 'DISPLAY_ORDER', 'yearToDate', 'previousYearToDate', 'share'], axis=1)\n",
    "\n",
    "# show columns before delete\n",
    "print(df_temp.columns)\n",
    "print('')\n",
    "print('---------------------------------')\n",
    "print('')\n",
    "\n",
    "df_temp.info()"
   ]
  },
  {
   "cell_type": "code",
   "execution_count": 17,
   "id": "624c0b1b-2b1b-4a34-90a8-34b3ec33ba89",
   "metadata": {},
   "outputs": [
    {
     "data": {
      "text/plain": [
       "3104"
      ]
     },
     "execution_count": 17,
     "metadata": {},
     "output_type": "execute_result"
    }
   ],
   "source": [
    "# delete row with null values\n",
    "len(df_temp)\n",
    "df_without_null = df_temp.dropna(how='any')\n",
    "\n",
    "# size dataframe without null\n",
    "len(df_without_null)"
   ]
  },
  {
   "cell_type": "code",
   "execution_count": 18,
   "id": "110a7b90-8465-4134-9aa9-cb30577644ed",
   "metadata": {},
   "outputs": [
    {
     "data": {
      "text/plain": [
       "2706"
      ]
     },
     "execution_count": 18,
     "metadata": {},
     "output_type": "execute_result"
    }
   ],
   "source": [
    "# eliminate row with PRODUCT containt Total\n",
    "filter_total = df_without_null[~df_without_null['PRODUCT'].str.contains('Total', case=False, na=False)]\n",
    "\n",
    "len(filter_total)"
   ]
  },
  {
   "cell_type": "code",
   "execution_count": 19,
   "id": "7d70c184-e513-4c67-b478-85c94fdea206",
   "metadata": {},
   "outputs": [],
   "source": [
    "# save the new dataframe\n",
    "filter_total.to_csv('data/processed/colombia_data.csv', index=False)"
   ]
  },
  {
   "cell_type": "code",
   "execution_count": 20,
   "id": "10aa76ec-ec65-4c11-9c45-dc6a470ddf9a",
   "metadata": {},
   "outputs": [
    {
     "name": "stdout",
     "output_type": "stream",
     "text": [
      "<class 'pandas.core.frame.DataFrame'>\n",
      "Index: 2706 entries, 46557 to 212133\n",
      "Data columns (total 4 columns):\n",
      " #   Column   Non-Null Count  Dtype  \n",
      "---  ------   --------------  -----  \n",
      " 0   YEAR     2706 non-null   int64  \n",
      " 1   MONTH    2706 non-null   int64  \n",
      " 2   PRODUCT  2706 non-null   object \n",
      " 3   VALUE    2706 non-null   float64\n",
      "dtypes: float64(1), int64(2), object(1)\n",
      "memory usage: 105.7+ KB\n"
     ]
    }
   ],
   "source": [
    "# information dataframe\n",
    "filter_total.info()"
   ]
  },
  {
   "cell_type": "code",
   "execution_count": 21,
   "id": "854aa55e-3b84-4f82-ae3f-1de4105322d7",
   "metadata": {},
   "outputs": [
    {
     "data": {
      "text/plain": [
       "YEAR       0\n",
       "MONTH      0\n",
       "PRODUCT    0\n",
       "VALUE      0\n",
       "dtype: int64"
      ]
     },
     "execution_count": 21,
     "metadata": {},
     "output_type": "execute_result"
    }
   ],
   "source": [
    "# dimension of dataframe\n",
    "filter_total.shape\n",
    "\n",
    "# missing values\n",
    "filter_total.isnull().sum(axis=0)"
   ]
  },
  {
   "cell_type": "code",
   "execution_count": 55,
   "id": "34ab7fbb-a2a7-4343-bee9-a30119718a3d",
   "metadata": {},
   "outputs": [
    {
     "data": {
      "text/plain": [
       "YEAR       0\n",
       "MONTH      0\n",
       "PRODUCT    0\n",
       "VALUE      0\n",
       "dtype: int64"
      ]
     },
     "execution_count": 55,
     "metadata": {},
     "output_type": "execute_result"
    }
   ],
   "source": [
    "# missing values\n",
    "filter_total.isnull().sum(axis=0)"
   ]
  },
  {
   "cell_type": "code",
   "execution_count": null,
   "id": "2a1abb27-c0cf-453e-9088-c021a13f4ec4",
   "metadata": {},
   "outputs": [],
   "source": []
  }
 ],
 "metadata": {
  "kernelspec": {
   "display_name": "Python 3 (ipykernel)",
   "language": "python",
   "name": "python3"
  },
  "language_info": {
   "codemirror_mode": {
    "name": "ipython",
    "version": 3
   },
   "file_extension": ".py",
   "mimetype": "text/x-python",
   "name": "python",
   "nbconvert_exporter": "python",
   "pygments_lexer": "ipython3",
   "version": "3.12.3"
  }
 },
 "nbformat": 4,
 "nbformat_minor": 5
}
