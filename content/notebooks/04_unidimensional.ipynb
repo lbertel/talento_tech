{
 "cells": [
  {
   "cell_type": "code",
   "execution_count": 4,
   "id": "94889b07-8275-4fe2-9b73-8f92666d9300",
   "metadata": {},
   "outputs": [],
   "source": [
    "# import library\n",
    "%matplotlib inline\n",
    "import os\n",
    "import pandas as pd"
   ]
  },
  {
   "cell_type": "code",
   "execution_count": 19,
   "id": "4eb45792-f3f2-41fe-8f5b-b1401d8c0cd2",
   "metadata": {},
   "outputs": [
    {
     "data": {
      "text/html": [
       "<div>\n",
       "<style scoped>\n",
       "    .dataframe tbody tr th:only-of-type {\n",
       "        vertical-align: middle;\n",
       "    }\n",
       "\n",
       "    .dataframe tbody tr th {\n",
       "        vertical-align: top;\n",
       "    }\n",
       "\n",
       "    .dataframe thead th {\n",
       "        text-align: right;\n",
       "    }\n",
       "</style>\n",
       "<table border=\"1\" class=\"dataframe\">\n",
       "  <thead>\n",
       "    <tr style=\"text-align: right;\">\n",
       "      <th></th>\n",
       "      <th>YEAR</th>\n",
       "      <th>MONTH</th>\n",
       "      <th>PRODUCT</th>\n",
       "      <th>VALUE</th>\n",
       "    </tr>\n",
       "  </thead>\n",
       "  <tbody>\n",
       "    <tr>\n",
       "      <th>0</th>\n",
       "      <td>2014</td>\n",
       "      <td>1</td>\n",
       "      <td>Hydro</td>\n",
       "      <td>3903.977</td>\n",
       "    </tr>\n",
       "    <tr>\n",
       "      <th>1</th>\n",
       "      <td>2014</td>\n",
       "      <td>1</td>\n",
       "      <td>Wind</td>\n",
       "      <td>5.648</td>\n",
       "    </tr>\n",
       "    <tr>\n",
       "      <th>2</th>\n",
       "      <td>2014</td>\n",
       "      <td>1</td>\n",
       "      <td>Solar</td>\n",
       "      <td>1.065</td>\n",
       "    </tr>\n",
       "    <tr>\n",
       "      <th>3</th>\n",
       "      <td>2014</td>\n",
       "      <td>1</td>\n",
       "      <td>Coal</td>\n",
       "      <td>521.938</td>\n",
       "    </tr>\n",
       "    <tr>\n",
       "      <th>4</th>\n",
       "      <td>2014</td>\n",
       "      <td>1</td>\n",
       "      <td>Oil</td>\n",
       "      <td>139.219</td>\n",
       "    </tr>\n",
       "    <tr>\n",
       "      <th>5</th>\n",
       "      <td>2014</td>\n",
       "      <td>1</td>\n",
       "      <td>Natural gas</td>\n",
       "      <td>1031.146</td>\n",
       "    </tr>\n",
       "    <tr>\n",
       "      <th>6</th>\n",
       "      <td>2014</td>\n",
       "      <td>1</td>\n",
       "      <td>Combustible renewables</td>\n",
       "      <td>99.721</td>\n",
       "    </tr>\n",
       "    <tr>\n",
       "      <th>7</th>\n",
       "      <td>2014</td>\n",
       "      <td>1</td>\n",
       "      <td>Net electricity production</td>\n",
       "      <td>5702.714</td>\n",
       "    </tr>\n",
       "    <tr>\n",
       "      <th>8</th>\n",
       "      <td>2014</td>\n",
       "      <td>1</td>\n",
       "      <td>Electricity supplied</td>\n",
       "      <td>5555.847</td>\n",
       "    </tr>\n",
       "    <tr>\n",
       "      <th>9</th>\n",
       "      <td>2014</td>\n",
       "      <td>1</td>\n",
       "      <td>Distribution losses</td>\n",
       "      <td>536.164</td>\n",
       "    </tr>\n",
       "  </tbody>\n",
       "</table>\n",
       "</div>"
      ],
      "text/plain": [
       "   YEAR  MONTH                     PRODUCT     VALUE\n",
       "0  2014      1                       Hydro  3903.977\n",
       "1  2014      1                        Wind     5.648\n",
       "2  2014      1                       Solar     1.065\n",
       "3  2014      1                        Coal   521.938\n",
       "4  2014      1                         Oil   139.219\n",
       "5  2014      1                 Natural gas  1031.146\n",
       "6  2014      1      Combustible renewables    99.721\n",
       "7  2014      1  Net electricity production  5702.714\n",
       "8  2014      1        Electricity supplied  5555.847\n",
       "9  2014      1         Distribution losses   536.164"
      ]
     },
     "execution_count": 19,
     "metadata": {},
     "output_type": "execute_result"
    }
   ],
   "source": [
    "# set default directory\n",
    "os.chdir('/home/lbertel/code/talento_tech/content')\n",
    "\n",
    "# load data\n",
    "colombia_df = pd.read_csv('data/processed/colombia_data.csv')\n",
    "colombia_df.head(10)"
   ]
  },
  {
   "cell_type": "code",
   "execution_count": 17,
   "id": "95e992a2-a92a-4321-a2d4-4e1d353d5e2c",
   "metadata": {},
   "outputs": [
    {
     "name": "stdout",
     "output_type": "stream",
     "text": [
      "      YEAR  MONTH                      PRODUCT        VALUE\n",
      "0     2014      1                        Hydro  3903.977000\n",
      "1     2014      1                         Wind     5.648000\n",
      "2     2014      1                        Solar     1.065000\n",
      "4     2014      1                         Coal   521.938000\n",
      "5     2014      1                          Oil   139.219000\n",
      "...    ...    ...                          ...          ...\n",
      "3099  2025      2               Non-renewables  1796.540753\n",
      "3100  2025      2                       Others   274.151179\n",
      "3101  2025      2  Other renewables aggregated   229.792866\n",
      "3102  2025      2                   Low carbon  5132.921440\n",
      "3103  2025      2                 Fossil fuels  1796.540753\n",
      "\n",
      "[2706 rows x 4 columns]\n"
     ]
    }
   ],
   "source": [
    "## Visión general del datase"
   ]
  },
  {
   "cell_type": "code",
   "execution_count": null,
   "id": "cd2c25ea-9f0d-4cf9-ae99-d1ff97520e88",
   "metadata": {},
   "outputs": [],
   "source": [
    "## Análisis unidimensional"
   ]
  }
 ],
 "metadata": {
  "kernelspec": {
   "display_name": "Python 3 (ipykernel)",
   "language": "python",
   "name": "python3"
  },
  "language_info": {
   "codemirror_mode": {
    "name": "ipython",
    "version": 3
   },
   "file_extension": ".py",
   "mimetype": "text/x-python",
   "name": "python",
   "nbconvert_exporter": "python",
   "pygments_lexer": "ipython3",
   "version": "3.12.3"
  }
 },
 "nbformat": 4,
 "nbformat_minor": 5
}
