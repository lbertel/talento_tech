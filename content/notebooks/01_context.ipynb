{
 "cells": [
  {
   "cell_type": "markdown",
   "id": "98b3d0b6-97b1-44ec-838b-7e3a4ba0bbd2",
   "metadata": {},
   "source": [
    "# 1. Pregunta orientadora\n",
    "\n",
    "**🤔 ¿Cuál es el impacto de las energías renovables en Colombia para el 2025?**\n",
    "\n",
    "#🖥️ Análisis de los datos\n",
    "\n",
    "- El conjunto de datos proporciona estadísticas mensuales de electricidad de la Agencia Internacional de Energía (AIE) para múltiples países y territorios en todo el mundo.\n",
    "- Incluye información sobre la generación de electricidad mensual desde 2010 hasta 2022.\n",
    "- La producción de energía se mide en gigavatios-hora (GWh) y abarca una variedad de productos energéticos, incluyendo hidroeléctrica, eólica, solar, geotérmica, nuclear, combustibles fósiles y otros.\n",
    "- Estos datos pueden ser útiles para analizar las tendencias de consumo y producción de electricidad a nivel mundial y regional, así como para evaluar el impacto ambiental de la industria eléctrica.\n",
    "\n",
    "## 🕸️ Fuentes\n",
    "- https://www.kaggle.com/code/joeportilla/producci-n-mensual-de-energ-a-en-colombia-eda/notebook\n",
    "- https://api.iea.org/mes/list/ - Monthly Electricity Statistics\n",
    "\n",
    "## 💾 Categorias\n",
    "\n",
    "- COUNTRY: Name of the country\n",
    "- CODE_TIME: A code that represents the month and year (e.g., JAN2010 for January 2010)\n",
    "- TIME: The month and year in a more human-readable format (e.g., January 2010)\n",
    "- YEAR: The year of the data point\n",
    "- MONTH: The month of the data point as a number (1-12)\n",
    "- MONTH_NAME: The month of the data point as a string (e.g., January)\n",
    "- PRODUCT: The type of energy product (e.g., Hydro, Wind, Solar)\n",
    "- VALUE: The amount of electricity generated in gigawatt-hours (GWh)\n",
    "- DISPLAY_ORDER: The order in which the products should be displayed\n",
    "- yearToDate: The amount of electricity generated for the current year up to the current month in GWh\n",
    "- previousYearToDate: The amount of electricity generated for the previous year up to the current month in GWh\n",
    "- share: The share of the product in the total electricity generation for the country in decimal format\n",
    "\n",
    "# 🎯 Objetivo general\n",
    "Aplicar los metodos de análisis unidimensiosal, multidimensional, supervisados y no superevisados para obtener el impacto que puedan tener las energias renovables en la generación de energía en Colombia.\n",
    "\n",
    "## Objetivo especifico\n",
    "- Los ejercicios realizados se centra en explorar y visualizar el conjunto de datos.\n",
    "\n",
    "- Realizar un análisis exploratorio de datos para comprender los datos.\n",
    "\n",
    "# Rango de la data\n",
    "Enero de 2010 hasta Diciembre de 2022"
   ]
  }
 ],
 "metadata": {
  "kernelspec": {
   "display_name": "Python 3 (ipykernel)",
   "language": "python",
   "name": "python3"
  },
  "language_info": {
   "codemirror_mode": {
    "name": "ipython",
    "version": 3
   },
   "file_extension": ".py",
   "mimetype": "text/x-python",
   "name": "python",
   "nbconvert_exporter": "python",
   "pygments_lexer": "ipython3",
   "version": "3.12.3"
  }
 },
 "nbformat": 4,
 "nbformat_minor": 5
}
